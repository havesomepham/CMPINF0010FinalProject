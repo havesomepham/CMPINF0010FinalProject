{
 "cells": [
  {
   "cell_type": "markdown",
   "metadata": {},
   "source": [
    "**KEVIN**: My Dataset (Dataset 1) shows the amount of speed bumps in each neighborhood. This data was valuable as our metric of best neighborhoods to race in because the more speed bumps there are, the more you have to slow down. Overbook had the least amount of speed bumps which made it the best to race in for this data set.\n",
    "\n",
    "1. Overbook\n",
    "2. Stanton Heights\n",
    "3. Central Oakland\n",
    "4. Highland Park\n",
    "5. Bloomfield"
   ]
  },
  {
   "cell_type": "markdown",
   "metadata": {},
   "source": [
    "**RYDER**: My dataset was the number of arrests in each neighborhood. My rationale for choosing this dataset was that the neighborhoods with the least number of arrests would have the least police presence and thus the least chance for being pulled over for a speeding violation. The top 5 neighborhoods in this respect were as follows:\n",
    "\n",
    "1. Mt. Oliver Neighborhood \n",
    "2. Troy Hill-Herrs Island  \n",
    "3. Mt. Oliver Boro         \n",
    "4. Central Northside       \n",
    "5. Regent Square           "
   ]
  },
  {
   "cell_type": "markdown",
   "metadata": {},
   "source": [
    "**ALEX**: My dataset (dataset 3, arguably the most important, tee-hee-hee) is the traffic count data. Traffic data is important in our selection process, as racing through a neighborhood laden with busy intersections and gridlock is a one way trip to the slammer or the big racetrack in the sky; likely with passengers. I had to prune the old and unrepresentitive data, leaving the following 5 neighborhoods with GOOD data and low average traffic:\n",
    "\n",
    "1. Highland Park\n",
    "2. Upper Hill\n",
    "3. Beechview\n",
    "4. Central Northside\n",
    "5. Hazelwood"
   ]
  },
  {
   "cell_type": "markdown",
   "metadata": {},
   "source": [
    "**ZACH**: My dataset (Dataset 4) shows the number of crosswalks per neighborhood. This data was valubale as for our metric of best neighborhood to race in its critical to reduce the chances of pedestrians and therefore chane of acciednts. I had to cut most of the dataset as much of the data was representation values and not helpful for graphing. The top 5 neighborhoods in this metric are:\n",
    "\n",
    "1. New Homestead\n",
    "2. St. Clair\n",
    "3. Chartiers City\n",
    "4. Summer Hill\n",
    "5. Fineview"
   ]
  },
  {
   "cell_type": "markdown",
   "metadata": {},
   "source": []
  },
  {
   "cell_type": "markdown",
   "metadata": {},
   "source": [
    "**ALL OF US**: After comparing our datasets the best neighborhood for Drag Racing was **Highland Park**. To reach this conclusion, Team Kevin compared the number of speedbumps, numbers of arrests, average daily traffic, and number of crosswalks throughout the neighborhoods of Pittsburgh. Speed bumps are weighted heavily; hitting speedbumps at racing speed will kill your suspension and possibly you along with it. Arrests were weighted less heavily, as many in the dataset likely took place off the roads. Traffic figures are weighted heavily for the same reason as the speedbumps. Crosswalks are weighted less heavily than traffic and speedbumps, but still an important metric. Hopefully pedestrians will notice you barreling towards them at highway speeds in the 25 MPH zone and get the heck out of the way. "
   ]
  }
 ],
 "metadata": {
  "kernelspec": {
   "display_name": "Python 3",
   "language": "python",
   "name": "python3"
  },
  "language_info": {
   "codemirror_mode": {
    "name": "ipython",
    "version": 3
   },
   "file_extension": ".py",
   "mimetype": "text/x-python",
   "name": "python",
   "nbconvert_exporter": "python",
   "pygments_lexer": "ipython3",
   "version": "3.8.3"
  }
 },
 "nbformat": 4,
 "nbformat_minor": 4
}
